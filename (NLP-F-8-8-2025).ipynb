{
  "nbformat": 4,
  "nbformat_minor": 0,
  "metadata": {
    "colab": {
      "provenance": [],
      "authorship_tag": "ABX9TyOCvgacuJz3fuyd9MI7MinU",
      "include_colab_link": true
    },
    "kernelspec": {
      "name": "python3",
      "display_name": "Python 3"
    },
    "language_info": {
      "name": "python"
    }
  },
  "cells": [
    {
      "cell_type": "markdown",
      "metadata": {
        "id": "view-in-github",
        "colab_type": "text"
      },
      "source": [
        "<a href=\"https://colab.research.google.com/github/VaishnaviBairagoni/NLP-LAB/blob/main/(01-Aug-25).ipynb\" target=\"_parent\"><img src=\"https://colab.research.google.com/assets/colab-badge.svg\" alt=\"Open In Colab\"/></a>"
      ]
    },
    {
      "cell_type": "code",
      "execution_count": 20,
      "metadata": {
        "colab": {
          "base_uri": "https://localhost:8080/"
        },
        "id": "7SF4cv15tmfH",
        "outputId": "5e38f31c-0ce5-4340-be59-93455f1bb27a"
      },
      "outputs": [
        {
          "output_type": "stream",
          "name": "stdout",
          "text": [
            "Requirement already satisfied: nltk in /usr/local/lib/python3.11/dist-packages (3.9.1)\n",
            "Requirement already satisfied: click in /usr/local/lib/python3.11/dist-packages (from nltk) (8.2.1)\n",
            "Requirement already satisfied: joblib in /usr/local/lib/python3.11/dist-packages (from nltk) (1.5.1)\n",
            "Requirement already satisfied: regex>=2021.8.3 in /usr/local/lib/python3.11/dist-packages (from nltk) (2024.11.6)\n",
            "Requirement already satisfied: tqdm in /usr/local/lib/python3.11/dist-packages (from nltk) (4.67.1)\n",
            "['I', 'woke', 'up', 'at', '6', 'am', 'in', 'the', 'morning.I', 'brushed', ',', 'bathed', 'and', 'then', 'had', 'my', 'breakfast.I', 'reached', 'college', 'by', '9:56', 'am', '.', 'I', 'checked', 'my', 'timetable', ',', 'NLP', '(', 'Natural', 'Language', 'Processing', ')', 'lab', 'was', 'assigned', 'in', '(', 'room', 'no', '3111', ')', '.I', 'took', 'my', 'seat', 'and', 'started', 'doing', 'lab', 'assignments', '.']\n",
            "53\n"
          ]
        },
        {
          "output_type": "stream",
          "name": "stderr",
          "text": [
            "[nltk_data] Downloading package punkt to /root/nltk_data...\n",
            "[nltk_data]   Package punkt is already up-to-date!\n",
            "[nltk_data] Downloading package punkt_tab to /root/nltk_data...\n",
            "[nltk_data]   Package punkt_tab is already up-to-date!\n"
          ]
        }
      ],
      "source": [
        "!pip install nltk\n",
        "import nltk\n",
        "from nltk.tokenize import word_tokenize\n",
        "nltk.download('punkt')\n",
        "nltk.download('punkt_tab')\n",
        "sentence = \"I woke up at 6 am in the morning.I brushed ,bathed and then had my breakfast.I reached college by 9:56 am . I checked my timetable, NLP(Natural Language Processing) lab was assigned in (room no 3111) .I took my seat and started doing lab assignments.\"\n",
        "tokens = word_tokenize(sentence)\n",
        "print(tokens)\n",
        "length=len(tokens)\n",
        "print(length)\n"
      ]
    },
    {
      "cell_type": "code",
      "source": [
        "import nltk\n",
        "nltk.download('stopwords')\n",
        "from nltk.corpus import stopwords\n",
        "from nltk.tokenize import word_tokenize\n",
        "rohan=\"There is a boy named Rohan. He is 9 years old, he is in 3rd class now. He is highly active, intelligent and smartest kid amongst other kids.One day he had gone to playground and started playing with the ball without telling mom, everyne in the family were seaching for him but they couldn't find him. But in the end they found him playing in the ground .\"\n",
        "tokens = word_tokenize(rohan)\n",
        "print(tokens)\n",
        "length=len(tokens)\n",
        "print(length)\n",
        "\n",
        "stop_words=set(stopwords.words(\"english\"))\n",
        "print(stop_words)\n",
        "\n",
        "\n",
        "sam=[word for word in tokens if not word in stop_words]\n",
        "print(sam)\n"
      ],
      "metadata": {
        "colab": {
          "base_uri": "https://localhost:8080/"
        },
        "id": "5atfaXs55ZA1",
        "outputId": "044630c1-5e4f-4117-ef45-285c5ea7203e"
      },
      "execution_count": 43,
      "outputs": [
        {
          "output_type": "stream",
          "name": "stdout",
          "text": [
            "['There', 'is', 'a', 'boy', 'named', 'Rohan', '.', 'He', 'is', '9', 'years', 'old', ',', 'he', 'is', 'in', '3rd', 'class', 'now', '.', 'He', 'is', 'highly', 'active', ',', 'intelligent', 'and', 'smartest', 'kid', 'amongst', 'other', 'kids.One', 'day', 'he', 'had', 'gone', 'to', 'playground', 'and', 'started', 'playing', 'with', 'the', 'ball', 'without', 'telling', 'mom', ',', 'everyne', 'in', 'the', 'family', 'were', 'seaching', 'for', 'him', 'but', 'they', 'could', \"n't\", 'find', 'him', '.', 'But', 'in', 'the', 'end', 'they', 'found', 'him', 'playing', 'in', 'the', 'ground', '.']\n",
            "75\n",
            "{'for', 'more', 'after', 'him', 'below', 'is', 'now', 'the', 'how', 'out', 'my', \"shouldn't\", \"haven't\", 'all', 'ours', 'as', 'if', 'myself', \"won't\", 's', 'only', 'and', 'will', 'other', 'd', 'into', 'his', 'during', 'this', \"wasn't\", 'was', \"aren't\", 'whom', 't', 'aren', 'didn', 'before', \"they'll\", 'ourselves', 'both', \"mustn't\", 'o', 'while', 'about', 'these', 'when', \"it'll\", \"he's\", 'himself', 'not', 'up', 'which', 'any', 'from', 'further', \"we've\", 'can', \"we'd\", 'themselves', \"i'd\", \"she'll\", 'couldn', 'then', 'over', 'did', 'most', 'wasn', 'has', \"it'd\", 'hadn', 'at', 'yours', \"she'd\", 've', \"we're\", 'don', 'own', \"you're\", 'so', 'between', \"should've\", 'being', 'very', 'it', 'm', 'does', 'than', \"they'd\", 'am', 'she', 'been', 'won', 'some', 'he', 'no', 'until', \"it's\", 'they', \"don't\", 'wouldn', 'here', 'against', 'i', 'shouldn', \"weren't\", 'y', 'who', 'in', 'theirs', 'yourselves', 'by', 'there', 'should', 'because', 'above', 'off', \"doesn't\", 'll', \"couldn't\", 'had', 'mustn', 'were', 'but', 'itself', 'down', 'her', 'doesn', 'herself', 'your', 'do', \"isn't\", 'that', 'those', \"didn't\", 'through', 'an', 'their', 'are', 'to', 'why', 'nor', 'having', \"that'll\", \"shan't\", 'haven', 'a', \"hadn't\", 'again', 'me', 'needn', \"he'd\", 'with', 'mightn', 'weren', \"i'll\", 'have', \"wouldn't\", 'few', 'or', 'on', 'you', 'its', \"you've\", 'just', \"i've\", 'be', \"hasn't\", 'each', 'same', \"she's\", \"they're\", \"he'll\", 'ain', \"we'll\", 'under', 'shan', 'too', 'yourself', 'ma', 'them', \"they've\", 'where', 're', 'doing', 'hasn', 'isn', \"mightn't\", 'our', 'we', 'what', \"you'd\", \"needn't\", \"you'll\", 'hers', 'of', 'once', 'such', \"i'm\"}\n",
            "['There', 'boy', 'named', 'Rohan', '.', 'He', '9', 'years', 'old', ',', '3rd', 'class', '.', 'He', 'highly', 'active', ',', 'intelligent', 'smartest', 'kid', 'amongst', 'kids.One', 'day', 'gone', 'playground', 'started', 'playing', 'ball', 'without', 'telling', 'mom', ',', 'everyne', 'family', 'seaching', 'could', \"n't\", 'find', '.', 'But', 'end', 'found', 'playing', 'ground', '.']\n"
          ]
        },
        {
          "output_type": "stream",
          "name": "stderr",
          "text": [
            "[nltk_data] Downloading package stopwords to /root/nltk_data...\n",
            "[nltk_data]   Package stopwords is already up-to-date!\n"
          ]
        }
      ]
    },
    {
      "cell_type": "code",
      "source": [
        "import nltk\n",
        "import nltk.stem as stemmer\n",
        "from nltk.stem import PorterStemmer\n",
        "from nltk.tokenize import word_tokenize\n",
        "aol=\"Running quickly through the forest, the children happily played, jumping, shouting, and laughing. Their voices echoed, and the joyful sounds carried far, reminding everyone that happiness often comes from sharing simple moments and creating lasting memories\"\n",
        "stemmer = PorterStemmer()\n",
        "tokens = word_tokenize(aol)\n",
        "stemmed_words = [stemmer.stem(word) for word in tokens]\n",
        "print( tokens)\n",
        "print(stemmed_words)"
      ],
      "metadata": {
        "colab": {
          "base_uri": "https://localhost:8080/"
        },
        "id": "rxIa2p8l9wfR",
        "outputId": "f9b45451-463a-48f1-f27d-248d42daecc5"
      },
      "execution_count": 45,
      "outputs": [
        {
          "output_type": "stream",
          "name": "stdout",
          "text": [
            "['Running', 'quickly', 'through', 'the', 'forest', ',', 'the', 'children', 'happily', 'played', ',', 'jumping', ',', 'shouting', ',', 'and', 'laughing', '.', 'Their', 'voices', 'echoed', ',', 'and', 'the', 'joyful', 'sounds', 'carried', 'far', ',', 'reminding', 'everyone', 'that', 'happiness', 'often', 'comes', 'from', 'sharing', 'simple', 'moments', 'and', 'creating', 'lasting', 'memories']\n",
            "['run', 'quickli', 'through', 'the', 'forest', ',', 'the', 'children', 'happili', 'play', ',', 'jump', ',', 'shout', ',', 'and', 'laugh', '.', 'their', 'voic', 'echo', ',', 'and', 'the', 'joy', 'sound', 'carri', 'far', ',', 'remind', 'everyon', 'that', 'happi', 'often', 'come', 'from', 'share', 'simpl', 'moment', 'and', 'creat', 'last', 'memori']\n"
          ]
        },
        {
          "output_type": "stream",
          "name": "stderr",
          "text": [
            "[nltk_data] Error loading : Package '' not found in index\n"
          ]
        }
      ]
    },
    {
      "cell_type": "code",
      "source": [],
      "metadata": {
        "id": "57sGTL7yC8-5"
      },
      "execution_count": null,
      "outputs": []
    },
    {
      "cell_type": "code",
      "source": [],
      "metadata": {
        "id": "ttXsPdKlC9W-"
      },
      "execution_count": null,
      "outputs": []
    }
  ]
}
